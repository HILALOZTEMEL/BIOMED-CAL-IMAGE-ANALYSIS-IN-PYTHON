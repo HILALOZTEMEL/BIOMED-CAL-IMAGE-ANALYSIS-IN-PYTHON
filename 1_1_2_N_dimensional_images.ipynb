{
  "nbformat": 4,
  "nbformat_minor": 0,
  "metadata": {
    "colab": {
      "name": "1.1.2.N-dimensional_images.ipynb",
      "provenance": [],
      "collapsed_sections": [],
      "authorship_tag": "ABX9TyP+iHICjf0WnOqSymMpsKaw",
      "include_colab_link": true
    },
    "kernelspec": {
      "name": "python3",
      "display_name": "Python 3"
    },
    "language_info": {
      "name": "python"
    }
  },
  "cells": [
    {
      "cell_type": "markdown",
      "metadata": {
        "id": "view-in-github",
        "colab_type": "text"
      },
      "source": [
        "<a href=\"https://colab.research.google.com/github/HILALOZTEMEL/BIOMED-CAL-IMAGE-ANALYSIS-IN-PYTHON/blob/main/1_1_2_N_dimensional_images.ipynb\" target=\"_parent\"><img src=\"https://colab.research.google.com/assets/colab-badge.svg\" alt=\"Open In Colab\"/></a>"
      ]
    },
    {
      "cell_type": "markdown",
      "source": [
        "**N-dimensional images**\n"
      ],
      "metadata": {
        "id": "TykDiOgWs8CN"
      }
    },
    {
      "cell_type": "code",
      "execution_count": null,
      "metadata": {
        "id": "hGVPKz0Dsocm"
      },
      "outputs": [],
      "source": [
        "# Import ImageIO and NumPy\n",
        "import imageio\n",
        "import numpy as np\n",
        "\n",
        "# Read in each 2D image\n",
        "im1 = imageio.imread('chest-220.dcm')\n",
        "im2 = imageio.imread('chest-221.dcm')\n",
        "im3 = imageio.imread('chest-222.dcm')\n",
        "\n",
        "# Stack images into a volume\n",
        "vol = np.stack([im1,im2,im3])\n",
        "print('Volume dimensions:', vol.shape)"
      ]
    },
    {
      "cell_type": "code",
      "source": [
        "# Import ImageIO\n",
        "import imageio as im\n",
        "\n",
        "# Load the \"tcia-chest-ct\" directory\n",
        "vol = im.volread('tcia-chest-ct')\n",
        "\n",
        "# Print image attributes\n",
        "print('Available metadata:', vol.meta.keys())\n",
        "print('Shape of image array:', vol.shape)"
      ],
      "metadata": {
        "id": "KpSaDk-o-v37"
      },
      "execution_count": null,
      "outputs": []
    }
  ]
}